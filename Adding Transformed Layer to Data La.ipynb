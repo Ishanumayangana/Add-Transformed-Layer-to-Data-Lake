
import os
import shutil
import pandas as pd

def ingest_data(src_path, dest_path):
    """Ingest data from source to destination."""
    if os.path.exists(dest_path):
        shutil.rmtree(dest_path)  # Remove the existing directory

    print(f"Ingesting data from {src_path} to {dest_path}")
    shutil.copytree(src_path, dest_path)

def read_data(file_path):
    """Read data from a file."""
    print(f"Reading data from {file_path}")
    if file_path.endswith(".csv"):
        return pd.read_csv(file_path)
    elif file_path.endswith(".json"):
        return pd.read_json(file_path)
    else:
        raise ValueError("Unsupported file format")

def perform_data_operations(data, layer):
    """Perform transformations based on the layer."""
    print(f"Performing data operations for {layer} layer...")
    if layer == "refined":
        # Add a "Processed" column
        data['Processed'] = True
    elif layer == "curated":
        # Reverse "FirstName" column if it exists
        if 'FirstName' in data.columns:
            data['FirstName'] = data['FirstName'].apply(lambda x: x[::-1])
    elif layer == "enriched":
        # Add a "Bonus" column based on "Salary"
        if 'Salary' in data.columns:
            data['Bonus'] = data['Salary'] * 0.1  # Assuming a 10% bonus
    elif layer == "transformed":
        # Group data by a "Category" column and sum "Value" column
        if 'Category' in data.columns and 'Value' in data.columns:
            data = data.groupby('Category').agg({'Value': 'sum'}).reset_index()
    return data

def main():
    # Define project paths
    project_path = os.path.dirname(os.path.abspath(__file__))
    data_path = os.path.join(project_path, "data")
    data_lake_path = os.path.join(project_path, "data-lake")

    # Define layers
    raw_path = os.path.join(data_lake_path, "raw")
    refined_path = os.path.join(data_lake_path, "refined")
    curated_path = os.path.join(data_lake_path, "curated")
    enriched_path = os.path.join(data_lake_path, "enriched")
    transformed_path = os.path.join(data_lake_path, "transformed")  # New layer

    # Create directories for layers
    for layer_path in [raw_path, refined_path, curated_path, enriched_path, transformed_path]:
        os.makedirs(layer_path, exist_ok=True)

    # Ingest data
    source_data_path = data_path
    ingest_data(source_data_path, raw_path)

    # Process files through the layers
    for root, dirs, files in os.walk(raw_path):
        for file in files:
            file_path = os.path.join(root, file)
            data = read_data(file_path)

            # Refined layer
            refined_data = perform_data_operations(data, layer="refined")
            refined_output_path = os.path.join(refined_path, file)
            refined_data.to_csv(refined_output_path, index=False)

            # Curated layer
            curated_data = perform_data_operations(refined_data, layer="curated")
            curated_output_path = os.path.join(curated_path, file)
            curated_data.to_csv(curated_output_path, index=False)

            # Enriched layer
            enriched_data = perform_data_operations(curated_data, layer="enriched")
            enriched_output_path = os.path.join(enriched_path, file)
            enriched_data.to_csv(enriched_output_path, index=False)

            # Transformed layer
            transformed_data = perform_data_operations(enriched_data, layer="transformed")
            transformed_output_path = os.path.join(transformed_path, file)
            transformed_data.to_csv(transformed_output_path, index=False)

if __name__ == "__main__":
    main()
